{
 "cells": [
  {
   "cell_type": "code",
   "execution_count": null,
   "metadata": {},
   "outputs": [],
   "source": [
    "from conf.coupang.coupang_urlcrawl_parameter import *\n",
    "from conf.coupang.coupang_detailcrawl_parameter import *\n",
    "\n",
    "from src.coupang.coupang_urlcrawl import *\n",
    "from src.coupang.coupang_detailcrawl import *\n",
    "from src.utils.logging import *"
   ]
  },
  {
   "cell_type": "markdown",
   "metadata": {},
   "source": [
    "# URL 크롤링\n",
    " - 1. 라이브러리 경로를 받아온다.\n",
    " - 2. 정보를 수집하기 위한 xpath를 coupang_urlc_parameter.py에서 받아와 실행"
   ]
  },
  {
   "cell_type": "code",
   "execution_count": null,
   "metadata": {
    "scrolled": true
   },
   "outputs": [],
   "source": [
    "library_dict = get_library(LIBRARY_PATH)\n",
    "\n",
    "df_url = url_cralwer(library_dict,\n",
    "                     HEADERS, \n",
    "                     urlcrawl_baseurl, \n",
    "                     URLCRAWL_URL_XPATH, \n",
    "                     URLCRAWL_PRODUCT_XPATH, \n",
    "                     urlcrawl_review_num_xpath, \n",
    "                     urldata_log_path, \n",
    "                     urldata_save_path)\n",
    "df_url"
   ]
  },
  {
   "cell_type": "markdown",
   "metadata": {},
   "source": [
    "# 세부정보 크롤링\n",
    "- 정보를 수집하기 위한 xpath를 coupang_detailc_parameter.py에서 받아와 실행"
   ]
  },
  {
   "cell_type": "code",
   "execution_count": null,
   "metadata": {},
   "outputs": [],
   "source": [
    "detail_crawler = detail_crawler(df_url, CHROME_EXE_PATH, CHROMEDRIVER_PATH, SELENIUM_OPTION, \n",
    "                                MOVE_XPATH1, MOVE_XPATH2, MOVE_XPATH3, MOVE_XPATH4, MOVE_XPATH5, \n",
    "                                MOTION1_XPATH, MOTION2_XPATH, MOTION3_XPATH, \n",
    "                                ELEMENTS_XPATH, NAME_XPATH, PRODUCT_XPATH, DATE_XPATH, STAR_XPATH, HEADLINE_CLASS_NAME, CONTENT_CLASS_NAME, \n",
    "                                page_move_xpath, detaildata_save_path, detaildata_log_path)\n",
    "detail_crawler"
   ]
  }
 ],
 "metadata": {
  "interpreter": {
   "hash": "4675e768d5457d8309bc547c0206a20ec172aeeaad5e4b9dd363fcd4433944bd"
  },
  "kernelspec": {
   "display_name": "Python 3",
   "language": "python",
   "name": "python3"
  },
  "language_info": {
   "codemirror_mode": {
    "name": "ipython",
    "version": 3
   },
   "file_extension": ".py",
   "mimetype": "text/x-python",
   "name": "python",
   "nbconvert_exporter": "python",
   "pygments_lexer": "ipython3",
   "version": "3.8.5"
  }
 },
 "nbformat": 4,
 "nbformat_minor": 4
}
